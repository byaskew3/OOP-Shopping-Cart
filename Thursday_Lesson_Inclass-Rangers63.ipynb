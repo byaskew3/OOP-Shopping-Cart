{
 "cells": [
  {
   "cell_type": "markdown",
   "source": [
    "# Object-Oriented-Programming (OOP)"
   ],
   "metadata": {}
  },
  {
   "cell_type": "markdown",
   "source": [
    "## Tasks Today:\n",
    "\n",
    "   \n",
    "\n",
    "1) <b>Creating a Class (Initializing/Declaring)</b> <br>\n",
    "2) <b>Using a Class (Instantiating)</b> <br>\n",
    " &nbsp;&nbsp;&nbsp;&nbsp; a) Creating One Instance <br>\n",
    " &nbsp;&nbsp;&nbsp;&nbsp; b) Creating Multiple Instances <br>\n",
    " &nbsp;&nbsp;&nbsp;&nbsp; c) In-Class Exercise #1 - Create a Class 'Car' and instantiate three different makes of cars <br>\n",
    "3) <b>The \\__init\\__() Method</b> <br>\n",
    " &nbsp;&nbsp;&nbsp;&nbsp; a) The 'self' Attribute <br>\n",
    "4) <b>Class Attributes</b> <br>\n",
    " &nbsp;&nbsp;&nbsp;&nbsp; a) Initializing Attributes <br>\n",
    " &nbsp;&nbsp;&nbsp;&nbsp; b) Setting an Attribute Outside of the \\__init\\__() Method <br>\n",
    " &nbsp;&nbsp;&nbsp;&nbsp; c) Setting Defaults for Attributes <br>\n",
    " &nbsp;&nbsp;&nbsp;&nbsp; d) Accessing Class Attributes <br>\n",
    " &nbsp;&nbsp;&nbsp;&nbsp; e) Changing Class Attributes <br>\n",
    " &nbsp;&nbsp;&nbsp;&nbsp; f) In-Class Exercise #2 - Add a color and wheels attribute to your 'Car' class <br>\n",
    "5) <b>Class Methods</b> <br>\n",
    " &nbsp;&nbsp;&nbsp;&nbsp; a) Creating <br>\n",
    " &nbsp;&nbsp;&nbsp;&nbsp; b) Calling <br>\n",
    " &nbsp;&nbsp;&nbsp;&nbsp; c) Modifying an Attribute's Value Through a Method <br>\n",
    " &nbsp;&nbsp;&nbsp;&nbsp; d) Incrementing an Attribute's Value Through a Method <br>\n",
    " &nbsp;&nbsp;&nbsp;&nbsp; e) In-Class Exercise #3 - Add a method that prints the cars color and wheel number, then call them <br>\n",
    "6) <b>Inheritance</b> <br>\n",
    " &nbsp;&nbsp;&nbsp;&nbsp; a) Syntax for Inheriting from a Parent Class <br>\n",
    " &nbsp;&nbsp;&nbsp;&nbsp; b) The \\__init\\__() Method for a Child Class (super()) <br>\n",
    " &nbsp;&nbsp;&nbsp;&nbsp; c) Defining Attributes and Methods for the Child Class <br>\n",
    " &nbsp;&nbsp;&nbsp;&nbsp; d) Method Overriding <br>\n",
    " &nbsp;&nbsp;&nbsp;&nbsp; e) In-Class Exercise #4 - Create a class 'Ford' that inherits from 'Car' class and initialize it as a Blue Ford Explorer with 4 wheels using the super() method <br>\n",
    "7) <b>Classes as Attributes</b> <br>\n",
    "8) <b>Exercises</b> <br>\n",
    " &nbsp;&nbsp;&nbsp;&nbsp; a) Exercise #1 - Turn the shopping cart program from yesterday into an object-oriented program <br>"
   ],
   "metadata": {}
  },
  {
   "cell_type": "markdown",
   "source": [
    "## Creating a Class (Initializing/Declaring)\n",
    "<p>When creating a class, function, or even a variable you are initializing that object. Initializing and Declaring occur at the same time in Python, whereas in lower level languages you have to declare an object before initializing it. This is the first step in the process of using a class.</p>"
   ],
   "metadata": {}
  },
  {
   "cell_type": "code",
   "execution_count": 4,
   "source": [
    "class Car():\r\n",
    "    wheels = 4\r\n",
    "    color = 'blue'"
   ],
   "outputs": [],
   "metadata": {}
  },
  {
   "cell_type": "markdown",
   "source": [
    "## Using a Class (Instantiating)\n",
    "<p>The process of creating a class is called <i>Instantiating</i>. Each time you create a variable of that type of class, it is referred to as an <i>Instance</i> of that class. This is the second step in the process of using a class.</p>"
   ],
   "metadata": {}
  },
  {
   "cell_type": "markdown",
   "source": [
    "##### Creating One Instance"
   ],
   "metadata": {}
  },
  {
   "cell_type": "code",
   "execution_count": null,
   "source": [
    "ford = Car()"
   ],
   "outputs": [],
   "metadata": {}
  },
  {
   "cell_type": "markdown",
   "source": [
    "##### Creating Multiple Instances"
   ],
   "metadata": {}
  },
  {
   "cell_type": "code",
   "execution_count": null,
   "source": [],
   "outputs": [],
   "metadata": {}
  },
  {
   "cell_type": "markdown",
   "source": [
    "##### In-Class Exercise #1 - Create a Class 'Car' and Instantiate three different makes of cars"
   ],
   "metadata": {}
  },
  {
   "cell_type": "code",
   "execution_count": 5,
   "source": [
    "# at minimum, your class Car must have a make variable\r\n",
    "# i might suggest having a year make model and year\r\n",
    "\r\n",
    "class Car():\r\n",
    "    year = 2000\r\n",
    "    make = \"Ferrari\"\r\n",
    "    model = \"Enzo\"\r\n",
    "    color = \"Red\"\r\n",
    "\r\n",
    "ferrari = Car()\r\n",
    "print(ferrari.year)\r\n",
    "\r\n",
    "aston = Car()\r\n",
    "aston.make = \"Aston Martin\"\r\n",
    "aston.model = \"DB5\"\r\n",
    "color = \"Green\"\r\n",
    "print(aston.model)"
   ],
   "outputs": [
    {
     "output_type": "stream",
     "name": "stdout",
     "text": [
      "2000\n",
      "2021\n",
      "DB5\n"
     ]
    }
   ],
   "metadata": {}
  },
  {
   "cell_type": "markdown",
   "source": [
    "## The \\__init\\__() Method <br>\n",
    "<p>This method is used in almost every created class, and called only once upon the creation of the class instance. This method will initialize all variables needed for the object.</p>"
   ],
   "metadata": {}
  },
  {
   "cell_type": "code",
   "execution_count": 16,
   "source": [
    "class Car:\r\n",
    "    def __init__(self, year, make, model, color):\r\n",
    "        self.year = year\r\n",
    "        self.make = make\r\n",
    "        self.model = model\r\n",
    "        self.color = color\r\n",
    "\r\n",
    "ferrari = Car(2000, \"ferrari\", \"enzo\", \"red\")\r\n",
    "print(ferrari)\r\n",
    "ferrari.make = \"ferrari\"\r\n",
    "print(ferrari.make)\r\n",
    "# the object. __dict__ special attribute takes our class' attributes and puts them in a dictionary for us\r\n",
    "print(ferrari.__dict__)\r\n",
    "\r\n",
    "aston = Car(1986, \"Aston Martin\", \"DB5\", \"Green\")\r\n",
    "print(aston)\r\n",
    "print(aston.__dict__)"
   ],
   "outputs": [
    {
     "output_type": "stream",
     "name": "stdout",
     "text": [
      "<__main__.Car object at 0x0000021AED6CB5E0>\n",
      "ferrari\n",
      "{'year': 2000, 'make': 'ferrari', 'model': 'enzo', 'color': 'red'}\n",
      "<__main__.Car object at 0x0000021AECA7F5E0>\n",
      "{'year': 1986, 'make': 'Aston Martin', 'model': 'DB5', 'color': 'Green'}\n"
     ]
    }
   ],
   "metadata": {}
  },
  {
   "cell_type": "markdown",
   "source": [
    "##### The 'self' Attribute <br>\n",
    "<p>This attribute is required to keep track of specific instance's attributes. Without the self attribute, the program would not know how to reference or keep track of an instance's attributes.</p>"
   ],
   "metadata": {}
  },
  {
   "cell_type": "code",
   "execution_count": null,
   "source": [
    "# see above"
   ],
   "outputs": [],
   "metadata": {}
  },
  {
   "cell_type": "markdown",
   "source": [
    "## Class Attributes <br>\n",
    "<p>While variables are inside of a class, they are referred to as attributes and not variables. When someone says 'attribute' you know they're speaking about a class. Attributes can be initialized through the init method, or outside of it.</p>"
   ],
   "metadata": {}
  },
  {
   "cell_type": "markdown",
   "source": [
    "##### Initializing Attributes"
   ],
   "metadata": {}
  },
  {
   "cell_type": "code",
   "execution_count": null,
   "source": [
    "# see above"
   ],
   "outputs": [],
   "metadata": {}
  },
  {
   "cell_type": "markdown",
   "source": [
    "##### Accessing Class Attributes"
   ],
   "metadata": {}
  },
  {
   "cell_type": "code",
   "execution_count": null,
   "source": [
    "# See Above\r\n",
    "# __init__ method ro no __init__ method, still the same instance_name.attribute_name syntax\r\n",
    "print()"
   ],
   "outputs": [],
   "metadata": {
    "scrolled": true
   }
  },
  {
   "cell_type": "markdown",
   "source": [
    "##### Setting Defaults for Attributes"
   ],
   "metadata": {}
  },
  {
   "cell_type": "code",
   "execution_count": 17,
   "source": [
    "class Car:\r\n",
    "    def __init__(self, year, make, model, color):\r\n",
    "        self.year = year\r\n",
    "        self.make = make\r\n",
    "        self.model = model\r\n",
    "        self.color = color\r\n",
    "        self.wheels = 4 # the car's wheels attribute is given a literal value of 4 instead of asking for input\r\n",
    "\r\n",
    "ferrari = Car(2000, \"ferrari\", \"enzo\", \"red\")\r\n",
    "print(ferrari)\r\n",
    "ferrari.make = \"ferrari\"\r\n",
    "print(ferrari.make)\r\n",
    "# the object. __dict__ special attribute takes our class' attributes and puts them in a dictionary for us\r\n",
    "print(ferrari.__dict__)\r\n",
    "\r\n",
    "aston = Car(1986, \"Aston Martin\", \"DB5\", \"Green\")\r\n",
    "print(aston)\r\n",
    "print(aston.__dict__)"
   ],
   "outputs": [
    {
     "output_type": "stream",
     "name": "stdout",
     "text": [
      "<__main__.Car object at 0x0000021AECA7FDC0>\n",
      "ferrari\n",
      "{'year': 2000, 'make': 'ferrari', 'model': 'enzo', 'color': 'red', 'wheels': 4}\n",
      "<__main__.Car object at 0x0000021AED6CB580>\n",
      "{'year': 1986, 'make': 'Aston Martin', 'model': 'DB5', 'color': 'Green', 'wheels': 4}\n"
     ]
    }
   ],
   "metadata": {}
  },
  {
   "cell_type": "markdown",
   "source": [
    "##### Changing Class Attributes <br>\n",
    "<p>Keep in mind there are global class attributes and then there are attributes only available to each class instance which won't effect other classes.</p>"
   ],
   "metadata": {}
  },
  {
   "cell_type": "code",
   "execution_count": 19,
   "source": [
    "print(aston)\r\n",
    "print(aston.wheels)\r\n",
    "aston.wheels = 6\r\n",
    "print(aston.wheels)"
   ],
   "outputs": [
    {
     "output_type": "stream",
     "name": "stdout",
     "text": [
      "<__main__.Car object at 0x0000021AED6CB580>\n",
      "4\n",
      "6\n"
     ]
    }
   ],
   "metadata": {}
  },
  {
   "cell_type": "code",
   "execution_count": null,
   "source": [],
   "outputs": [],
   "metadata": {}
  },
  {
   "cell_type": "markdown",
   "source": [
    "##### In-Class Exercise #2 - Add a doors and seats attribute to your 'Car' class then print out two different instances with different doors and seats"
   ],
   "metadata": {}
  },
  {
   "cell_type": "code",
   "execution_count": 27,
   "source": [
    "class Car:\r\n",
    "    def __init__(self, year, make, model, color, wheels=4, doors=2, seats=2):\r\n",
    "        self.year = year\r\n",
    "        self.make = make\r\n",
    "        self.model = model\r\n",
    "        self.color = color\r\n",
    "        self.wheels = wheels\r\n",
    "        self.doors = doors\r\n",
    "        self.seats = seats\r\n",
    "\r\n",
    "mustang = Car(1985, \"ford\", \"GT\", \"white\")\r\n",
    "print(mustang)\r\n",
    "print(mustang.__dict__)\r\n",
    "\r\n",
    "charger = Car(2021, \"Dodge\", \"Charger\", \"Black\", 4, 4, 5)\r\n",
    "print(charger.__dict__)"
   ],
   "outputs": [
    {
     "output_type": "stream",
     "name": "stdout",
     "text": [
      "<__main__.Car object at 0x0000021AED790580>\n",
      "{'year': 1985, 'make': 'ford', 'model': 'GT', 'color': 'white', 'wheels': 4, 'doors': 2, 'seats': 2}\n",
      "{'year': 2021, 'make': 'Dodge', 'model': 'Charger', 'color': 'Black', 'wheels': 4, 'doors': 4, 'seats': 5}\n"
     ]
    }
   ],
   "metadata": {}
  },
  {
   "cell_type": "markdown",
   "source": [
    "## Class Methods <br>\n",
    "<p>While inside of a class, functions are referred to as 'methods'. If you hear someone mention methods, they're speaking about classes. Methods are essentially functions, but only callable on the instances of a class.</p>"
   ],
   "metadata": {}
  },
  {
   "cell_type": "markdown",
   "source": [
    "##### Creating"
   ],
   "metadata": {}
  },
  {
   "cell_type": "code",
   "execution_count": 33,
   "source": [
    "class Car:\r\n",
    "    def __init__(self, year, make, model, color, wheels=4, doors=2, seats=2):\r\n",
    "        self.year = year\r\n",
    "        self.make = make\r\n",
    "        self.model = model\r\n",
    "        self.color = color\r\n",
    "        self.wheels = wheels\r\n",
    "        self.doors = doors\r\n",
    "        self.seats = seats\r\n",
    "\r\n",
    "    def display(self):\r\n",
    "        print(f\"This is a {self.year} {self.make} {self.model} with {self.wheels} wheels, {self.doors} doors, and {self.seats} seats.\")\r\n",
    "    \r\n",
    "    def setColor(self, newColor):\r\n",
    "        oldcolor = self.color\r\n",
    "        self.color = newColor\r\n",
    "        print(f\"Your {self.make} {self.model} has been repainted from {oldcolor} to {self.color}.\")\r\n",
    "\r\n",
    "mustang = Car(1985, \"ford\", \"GT\", \"white\")\r\n",
    "mustang.display()\r\n",
    "mustang.setColor(\"black\")"
   ],
   "outputs": [
    {
     "output_type": "stream",
     "name": "stdout",
     "text": [
      "This is a 1985 ford GT with 4 wheels, 2 doors, and 2 seats.\n",
      "Your ford GT ahs been repainted from white to black.\n"
     ]
    }
   ],
   "metadata": {}
  },
  {
   "cell_type": "markdown",
   "source": [
    "##### Calling"
   ],
   "metadata": {}
  },
  {
   "cell_type": "code",
   "execution_count": null,
   "source": [
    "# See Above"
   ],
   "outputs": [],
   "metadata": {}
  },
  {
   "cell_type": "markdown",
   "source": [
    "##### Modifying an Attribute's Value Through a Method"
   ],
   "metadata": {}
  },
  {
   "cell_type": "code",
   "execution_count": null,
   "source": [],
   "outputs": [],
   "metadata": {}
  },
  {
   "cell_type": "markdown",
   "source": [
    "##### Incrementing an Attribute's Value Through a Method"
   ],
   "metadata": {}
  },
  {
   "cell_type": "code",
   "execution_count": 35,
   "source": [
    "class Car:\r\n",
    "    def __init__(self, year, make, model, color, wheels=4, doors=2, seats=2):\r\n",
    "        self.year = year\r\n",
    "        self.make = make\r\n",
    "        self.model = model\r\n",
    "        self.color = color\r\n",
    "        self.wheels = wheels\r\n",
    "        self.doors = doors\r\n",
    "        self.seats = seats\r\n",
    "        self.age = 2021-year\r\n",
    "\r\n",
    "    def display(self):\r\n",
    "        print(f\"This is a {self.year} {self.make} {self.model} with {self.wheels} wheels, {self.doors} doors, and {self.seats} seats.\")\r\n",
    "    \r\n",
    "    def setColor(self, newColor):\r\n",
    "        oldcolor = self.color\r\n",
    "        self.color = newColor\r\n",
    "        print(f\"Your {self.make} {self.model} has been repainted from {oldcolor} to {self.color}.\")\r\n",
    "    def older(self):\r\n",
    "        self.age += 1\r\n",
    "        print(f\"Your {self.make} {self.model} is now a year older. It is {self.age}\")\r\n",
    "\r\n",
    "mustang = Car(1985, \"ford\", \"GT\", \"white\")\r\n",
    "print(mustang.__dict__)\r\n",
    "mustang.older()"
   ],
   "outputs": [
    {
     "output_type": "stream",
     "name": "stdout",
     "text": [
      "{'year': 1985, 'make': 'ford', 'model': 'GT', 'color': 'white', 'wheels': 4, 'doors': 2, 'seats': 2, 'age': 36}\n",
      "Your ford GT is now a year older. It is 37\n"
     ]
    }
   ],
   "metadata": {}
  },
  {
   "cell_type": "markdown",
   "source": [
    "##### In-Class Exercise #3 - Add a method that takes in three parameters of year, doors and seats and prints out a formatted print statement with make, model, year, seats, and doors"
   ],
   "metadata": {}
  },
  {
   "cell_type": "code",
   "execution_count": 38,
   "source": [
    "# Create class with 2 paramters inside of the __init__ which are make and model\r\n",
    "\r\n",
    "# Inside of the Car class create a method that has 4 parameter in total (self,year,door,seats)\r\n",
    "\r\n",
    "# Output: This car is from 2019 and is a Ford Expolorer and has 4 doors and 5 seats\r\n",
    "class Car:\r\n",
    "    def __init__(self, make, model):\r\n",
    "        self.make = make\r\n",
    "        self.model = model\r\n",
    "    def extra(self, year, door, seats):\r\n",
    "        print(f\"This car is from {year} and is a {self.make} {self.model} and has {door} doors, and {seats} seats.\")\r\n",
    "\r\n",
    "mustang = Car(\"Ford\", \"Mustange GT\")\r\n",
    "mustang.extra(1985, 2, 4)\r\n"
   ],
   "outputs": [
    {
     "output_type": "stream",
     "name": "stdout",
     "text": [
      "This car is from 1985 and is a Ford Mustange GT and has 2 doors, and 4 seats.\n"
     ]
    }
   ],
   "metadata": {}
  },
  {
   "cell_type": "markdown",
   "source": [
    "## Inheritance <br>\n",
    "<p>You can create a child-parent relationship between two classes by using inheritance. What this allows you to do is have overriding methods, but also inherit traits from the parent class. Think of it as an actual parent and child, the child will inherit the parent's genes, as will the classes in OOP</p>"
   ],
   "metadata": {}
  },
  {
   "cell_type": "markdown",
   "source": [
    "##### Syntax for Inheriting from a Parent Class"
   ],
   "metadata": {}
  },
  {
   "cell_type": "code",
   "execution_count": null,
   "source": [],
   "outputs": [],
   "metadata": {}
  },
  {
   "cell_type": "markdown",
   "source": [
    "##### The \\__init\\__() Method for a Child Class - super()"
   ],
   "metadata": {}
  },
  {
   "cell_type": "code",
   "execution_count": null,
   "source": [],
   "outputs": [],
   "metadata": {
    "scrolled": true
   }
  },
  {
   "cell_type": "markdown",
   "source": [
    "##### Defining Attributes and Methods for the Child Class"
   ],
   "metadata": {}
  },
  {
   "cell_type": "code",
   "execution_count": null,
   "source": [
    "# See Above"
   ],
   "outputs": [],
   "metadata": {}
  },
  {
   "cell_type": "markdown",
   "source": [
    "##### Method Overriding"
   ],
   "metadata": {}
  },
  {
   "cell_type": "code",
   "execution_count": null,
   "source": [
    "# See Above"
   ],
   "outputs": [],
   "metadata": {}
  },
  {
   "cell_type": "markdown",
   "source": [
    "## Classes as Attributes <br>\n",
    "<p>Classes can also be used as attributes within another class. This is useful in situations where you need to keep variables locally stored, instead of globally stored.</p>"
   ],
   "metadata": {}
  },
  {
   "cell_type": "code",
   "execution_count": 45,
   "source": [
    "# I'm going to plan a little zoo\r\n",
    "# I'm going to have four classes\r\n",
    "# Zookeeper - object (will have __init__)\r\n",
    "    # attrs: name, age\r\n",
    "# Zoo - object (will have __init__)\r\n",
    "    # attrs: zookeeper, location, list of animals\r\n",
    "# Animal - object (will have __init__)\r\n",
    "    # attrs: name, habitat, description\r\n",
    "# Main class - not an object, just where I put my instantiations/driver code\r\n",
    "\r\n",
    "# Do I make an attribute or a method?\r\n",
    "# If what you are doing is a characteristic or piece of data- it should be probably be an attribute\r\n",
    "# If what you are doing/have is a process or an action its gonna be a method/function\r\n",
    "# an attribute is something that a class has\r\n",
    "# a method is something that a class does\r\n",
    "\r\n",
    "# start with skeleton code\r\n",
    "\r\n",
    "class Animal:\r\n",
    "    def __init__(self, name, habitat, description):\r\n",
    "        self.name = name\r\n",
    "        self.habitat = habitat\r\n",
    "        self.description = description\r\n",
    "    def display(self):\r\n",
    "        print(f\"The {self.name} lives in the {self.habitat}. The {self.name} is {self.description}.\")\r\n",
    "class Zookeeper:\r\n",
    "    def __init__(self, name, age):\r\n",
    "        self.name = name\r\n",
    "        self.age = age\r\n",
    "    \r\n",
    "\r\n",
    "class Zoo:\r\n",
    "    def __init__(self, location, zookeeper):\r\n",
    "        self.zookeeper = zookeeper\r\n",
    "        self.location = location\r\n",
    "        self.animals = []\r\n",
    "        \r\n",
    "\r\n",
    "fennec = Animal(\"fennec fox\", \"desert\", \"A small, large-earred fox native to the deserts of Africa\")\r\n",
    "print(fennec)\r\n",
    "print(fennec.__dict__)\r\n",
    "fennec.display()\r\n",
    "\r\n",
    "nicolle = Zookeeper(\"Nicolle\", 31)\r\n",
    "print(nicolle.__dict__) \r\n",
    "\r\n",
    "azoo = Zoo(\"Paris, France\", nicolle)\r\n",
    "print(azoo)\r\n",
    "print(azoo.__dict__)\r\n",
    "print(azoo.zookeeper.name)\r\n"
   ],
   "outputs": [
    {
     "output_type": "stream",
     "name": "stdout",
     "text": [
      "<__main__.Animal object at 0x0000021AECA5FF10>\n",
      "{'name': 'fennec fox', 'habitat': 'desert', 'description': 'A small, large-earred fox native to the deserts of Africa'}\n",
      "The fennec fox lives in the desert. The fennec fox is A small, large-earred fox native to the deserts of Africa.\n",
      "{'name': 'Nicolle', 'age': 31}\n",
      "<__main__.Zoo object at 0x0000021AED6CB4C0>\n",
      "{'zookeeper': <__main__.Zookeeper object at 0x0000021AED6CB970>, 'location': 'Paris, France', 'animals': []}\n",
      "Nicolle\n"
     ]
    }
   ],
   "metadata": {}
  },
  {
   "cell_type": "markdown",
   "source": [
    "# Exercises"
   ],
   "metadata": {}
  },
  {
   "cell_type": "markdown",
   "source": [
    "### Exercise 1 - Turn the shopping cart program from yesterday into an object-oriented program\n",
    "\n",
    "The comments in the cell below are there as a guide for thinking about the problem. However, if you feel a different way is best for you and your own thought process, please do what feels best for you by all means."
   ],
   "metadata": {}
  },
  {
   "cell_type": "code",
   "execution_count": 19,
   "source": [],
   "outputs": [
    {
     "output_type": "stream",
     "name": "stdout",
     "text": [
      "<class '__main__.ShoppingCart'>\n",
      "True\n"
     ]
    }
   ],
   "metadata": {}
  },
  {
   "cell_type": "code",
   "execution_count": 41,
   "source": [
    "# Create a class called cart that retains items and has methods to add, remove, and show\r\n",
    "class Cart():\r\n",
    "    def __init__(self):\r\n",
    "        self.cart = []   \r\n",
    "    def show(self):\r\n",
    "        print(f\"You currently have {self.cart} in your shopping cart.\")\r\n",
    "    \r\n",
    "    def add(self):\r\n",
    "        while True:\r\n",
    "            add_item = input(\"What would you like to add to your shopping cart? (Enter 'Done' when finished\").title()\r\n",
    "            if add_item == 'Done':\r\n",
    "                print(f\"Your shopping cart of {self.cart} is ready for checkout!\")\r\n",
    "                break\r\n",
    "            print(f\"Adding {add_item} to your shopping cart.\")\r\n",
    "            self.cart.append(add_item)\r\n",
    "    \r\n",
    "    def remove(self):\r\n",
    "        while True:\r\n",
    "            prompt = input(\"Would you like to remove any items from your shopping cart before completing your order? (Yes/No)\").title()\r\n",
    "            if prompt == 'No':\r\n",
    "                print(f\"Your shopping cart of {self.cart} has been processed. Thank you for shopping with us!\")\r\n",
    "                break\r\n",
    "            remove_item = input(\"What item would you like to remove?\").title()\r\n",
    "            print(f\"Removing {remove_item} from your shopping cart.\")\r\n",
    "            self.cart.remove(remove_item)\r\n",
    "            print(f\"Your shopping cart has {self.cart}\")\r\n",
    "\r\n",
    "cart1 = Cart()\r\n",
    "cart1.show()\r\n",
    "cart1.add()\r\n",
    "cart1.remove()"
   ],
   "outputs": [
    {
     "output_type": "stream",
     "name": "stdout",
     "text": [
      "You currently have [] in your shopping cart.\n",
      "Adding Eggs to your shopping cart.\n",
      "Adding Oatmeal to your shopping cart.\n",
      "Adding Cereal to your shopping cart.\n",
      "Your shopping cart of ['Eggs', 'Oatmeal', 'Cereal'] is ready for checkout!\n",
      "Removing Eggs from your shopping cart.\n",
      "Your shopping cart has ['Oatmeal', 'Cereal']\n",
      "Your shopping cart of ['Oatmeal', 'Cereal'] has been processed. Thank you for shopping with us!\n"
     ]
    }
   ],
   "metadata": {}
  },
  {
   "cell_type": "markdown",
   "source": [
    "### Exercise 2 - Write a Python class which has two methods get_String and print_String. get_String accept a string from the user and print_String print the string in upper case"
   ],
   "metadata": {}
  },
  {
   "cell_type": "code",
   "execution_count": null,
   "source": [],
   "outputs": [],
   "metadata": {}
  }
 ],
 "metadata": {
  "kernelspec": {
   "name": "python3",
   "display_name": "Python 3.9.6 64-bit"
  },
  "language_info": {
   "codemirror_mode": {
    "name": "ipython",
    "version": 3
   },
   "file_extension": ".py",
   "mimetype": "text/x-python",
   "name": "python",
   "nbconvert_exporter": "python",
   "pygments_lexer": "ipython3",
   "version": "3.9.6"
  },
  "interpreter": {
   "hash": "57990f1ad2ea89c67ddae7f31d40c478205c5912da0fccfb7c5cfbb2b8bf17ad"
  }
 },
 "nbformat": 4,
 "nbformat_minor": 2
}